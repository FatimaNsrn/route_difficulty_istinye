{
  "nbformat": 4,
  "nbformat_minor": 0,
  "metadata": {
    "colab": {
      "provenance": [],
      "authorship_tag": "ABX9TyPMEjYNyps5Lx8XYRwCRvAx",
      "include_colab_link": true
    },
    "kernelspec": {
      "name": "python3",
      "display_name": "Python 3"
    },
    "language_info": {
      "name": "python"
    }
  },
  "cells": [
    {
      "cell_type": "markdown",
      "metadata": {
        "id": "view-in-github",
        "colab_type": "text"
      },
      "source": [
        "<a href=\"https://colab.research.google.com/github/FatimaNsrn/route_difficulty_istinye/blob/main/processing.ipynb\" target=\"_parent\"><img src=\"https://colab.research.google.com/assets/colab-badge.svg\" alt=\"Open In Colab\"/></a>"
      ]
    },
    {
      "cell_type": "code",
      "execution_count": null,
      "metadata": {
        "colab": {
          "base_uri": "https://localhost:8080/"
        },
        "id": "dh14byYHZaGV",
        "outputId": "a66257e4-2b21-448c-e5e3-3be4bb1f44d7"
      },
      "outputs": [
        {
          "output_type": "stream",
          "name": "stdout",
          "text": [
            "                               Origin  \\\n",
            "0  1. 19 Mayis, Büyükçekmece/Istanbul   \n",
            "1  1. 19 Mayis, Büyükçekmece/Istanbul   \n",
            "2  1. 19 Mayis, Büyükçekmece/Istanbul   \n",
            "3       1. 19 Mayis, Kadiköy/Istanbul   \n",
            "4       1. 19 Mayis, Kadiköy/Istanbul   \n",
            "\n",
            "                                        Destination Time_Slot travel_time  \\\n",
            "0  Istinye University, Hamidiye, Kağthane, Istanbul  6pm-12am         206   \n",
            "1  Istinye University, Hamidiye, Kağthane, Istanbul  12pm-6pm         181   \n",
            "2  Istinye University, Hamidiye, Kağthane, Istanbul  6am-12pm         196   \n",
            "3  Istinye University, Hamidiye, Kağthane, Istanbul  6am-12pm          98   \n",
            "4  Istinye University, Hamidiye, Kağthane, Istanbul  12pm-6pm          85   \n",
            "\n",
            "   num_transits  buses  metros  ferries  \n",
            "0             3      3       0        0  \n",
            "1             4      4       0        0  \n",
            "2             4      4       0        0  \n",
            "3             2      2       0        0  \n",
            "4             3      2       0        0  \n",
            "<class 'pandas.core.frame.DataFrame'>\n",
            "RangeIndex: 10299 entries, 0 to 10298\n",
            "Data columns (total 8 columns):\n",
            " #   Column        Non-Null Count  Dtype \n",
            "---  ------        --------------  ----- \n",
            " 0   Origin        10299 non-null  object\n",
            " 1   Destination   10299 non-null  object\n",
            " 2   Time_Slot     10299 non-null  object\n",
            " 3   travel_time   10299 non-null  object\n",
            " 4   num_transits  10299 non-null  int64 \n",
            " 5   buses         10299 non-null  int64 \n",
            " 6   metros        10299 non-null  int64 \n",
            " 7   ferries       10299 non-null  int64 \n",
            "dtypes: int64(4), object(4)\n",
            "memory usage: 643.8+ KB\n",
            "None\n",
            "       num_transits         buses        metros       ferries\n",
            "count  10299.000000  10299.000000  10299.000000  10299.000000\n",
            "mean       0.533547      0.497427      0.025439      0.004564\n",
            "std        1.028302      0.968763      0.161722      0.067403\n",
            "min        0.000000      0.000000      0.000000      0.000000\n",
            "25%        0.000000      0.000000      0.000000      0.000000\n",
            "50%        0.000000      0.000000      0.000000      0.000000\n",
            "75%        0.000000      0.000000      0.000000      0.000000\n",
            "max        5.000000      5.000000      2.000000      1.000000\n"
          ]
        }
      ],
      "source": [
        "import pandas as pd\n",
        "\n",
        "df = pd.read_csv('datasetemoon.csv')\n",
        "\n",
        "\n",
        "print(df.head())\n",
        "print(df.info())\n",
        "print(df.describe())\n",
        "pd.set_option('display.max_columns', None)"
      ]
    },
    {
      "cell_type": "code",
      "source": [
        "print(\"Missing Values in Dataset:\")\n",
        "print(df.isnull().sum())"
      ],
      "metadata": {
        "colab": {
          "base_uri": "https://localhost:8080/"
        },
        "id": "-meNyM3UlrEY",
        "outputId": "5e6a439d-01a3-4cbe-f471-7482a9206d3e"
      },
      "execution_count": null,
      "outputs": [
        {
          "output_type": "stream",
          "name": "stdout",
          "text": [
            "Missing Values in Dataset:\n",
            "Origin          0\n",
            "Destination     0\n",
            "Time_Slot       0\n",
            "travel_time     0\n",
            "num_transits    0\n",
            "buses           0\n",
            "metros          0\n",
            "ferries         0\n",
            "dtype: int64\n"
          ]
        }
      ]
    },
    {
      "cell_type": "code",
      "source": [
        "df = df.dropna()\n"
      ],
      "metadata": {
        "id": "Fe25CR8KagSr"
      },
      "execution_count": null,
      "outputs": []
    },
    {
      "cell_type": "code",
      "source": [
        "\n",
        "print(df.tail(10))"
      ],
      "metadata": {
        "colab": {
          "base_uri": "https://localhost:8080/"
        },
        "id": "8YtT6o7yaggK",
        "outputId": "967061d8-2dfd-4766-b749-ade7e426fd29"
      },
      "execution_count": null,
      "outputs": [
        {
          "output_type": "stream",
          "name": "stdout",
          "text": [
            "      Origin                                       Destination Time_Slot  \\\n",
            "10289     \\N  Istinye University, Hamidiye, Kağthane, Istanbul  6pm-12am   \n",
            "10290     \\N  Istinye University, Hamidiye, Kağthane, Istanbul  6am-12pm   \n",
            "10291     \\N  Istinye University, Hamidiye, Kağthane, Istanbul  12pm-6pm   \n",
            "10292     \\N  Istinye University, Hamidiye, Kağthane, Istanbul  6pm-12am   \n",
            "10293     \\N  Istinye University, Hamidiye, Kağthane, Istanbul  6am-12pm   \n",
            "10294     \\N  Istinye University, Hamidiye, Kağthane, Istanbul  12pm-6pm   \n",
            "10295     \\N  Istinye University, Hamidiye, Kağthane, Istanbul  6pm-12am   \n",
            "10296     \\N  Istinye University, Hamidiye, Kağthane, Istanbul  6pm-12am   \n",
            "10297     \\N  Istinye University, Hamidiye, Kağthane, Istanbul  6am-12pm   \n",
            "10298     \\N  Istinye University, Hamidiye, Kağthane, Istanbul  12pm-6pm   \n",
            "\n",
            "      travel_time  num_transits  buses  metros  ferries  \n",
            "10289          \\N             0      0       0        0  \n",
            "10290          \\N             0      0       0        0  \n",
            "10291          \\N             0      0       0        0  \n",
            "10292          \\N             0      0       0        0  \n",
            "10293          \\N             0      0       0        0  \n",
            "10294          \\N             0      0       0        0  \n",
            "10295          \\N             0      0       0        0  \n",
            "10296          \\N             0      0       0        0  \n",
            "10297          \\N             0      0       0        0  \n",
            "10298          \\N             0      0       0        0  \n"
          ]
        }
      ]
    },
    {
      "cell_type": "code",
      "source": [
        "print(\"\\nNumber of Duplicated Rows:\")\n",
        "print(df.duplicated().sum())"
      ],
      "metadata": {
        "id": "rxlEVvChm3bF",
        "outputId": "0787dfa7-9aa8-48c1-9cd8-4d77acc404e3",
        "colab": {
          "base_uri": "https://localhost:8080/"
        }
      },
      "execution_count": null,
      "outputs": [
        {
          "output_type": "stream",
          "name": "stdout",
          "text": [
            "\n",
            "Number of Duplicated Rows:\n",
            "7911\n"
          ]
        }
      ]
    },
    {
      "cell_type": "code",
      "source": [
        "df = df.drop_duplicates()"
      ],
      "metadata": {
        "id": "_I-v7lEdbNYf"
      },
      "execution_count": null,
      "outputs": []
    },
    {
      "cell_type": "code",
      "source": [
        "\n",
        "num_rows, num_columns = df.shape\n",
        "\n",
        "\n",
        "print(f\"Number of rows: {num_rows}\")"
      ],
      "metadata": {
        "colab": {
          "base_uri": "https://localhost:8080/"
        },
        "id": "17LPSTRvbhbm",
        "outputId": "48b72ccf-467c-45d3-cab7-7e9a91be549f"
      },
      "execution_count": null,
      "outputs": [
        {
          "output_type": "stream",
          "name": "stdout",
          "text": [
            "Number of rows: 2388\n"
          ]
        }
      ]
    },
    {
      "cell_type": "code",
      "source": [
        "print(df.tail(10))"
      ],
      "metadata": {
        "colab": {
          "base_uri": "https://localhost:8080/"
        },
        "id": "U6HunE1wbSeh",
        "outputId": "143e08f6-362c-4621-c0a3-a53bc8bf1d38"
      },
      "execution_count": null,
      "outputs": [
        {
          "output_type": "stream",
          "name": "stdout",
          "text": [
            "                  Origin                                       Destination  \\\n",
            "2378     Num of Transits  Istinye University, Hamidiye, Kağthane, Istanbul   \n",
            "2379  Num of ferry boats  Istinye University, Hamidiye, Kağthane, Istanbul   \n",
            "2380  Num of ferry boats  Istinye University, Hamidiye, Kağthane, Istanbul   \n",
            "2381  Num of ferry boats  Istinye University, Hamidiye, Kağthane, Istanbul   \n",
            "2382             Üsküdar  Istinye University, Hamidiye, Kağthane, Istanbul   \n",
            "2383             Üsküdar  Istinye University, Hamidiye, Kağthane, Istanbul   \n",
            "2385             Üsküdar  Istinye University, Hamidiye, Kağthane, Istanbul   \n",
            "2442                  \\N  Istinye University, Hamidiye, Kağthane, Istanbul   \n",
            "2443                  \\N  Istinye University, Hamidiye, Kağthane, Istanbul   \n",
            "2448                  \\N  Istinye University, Hamidiye, Kağthane, Istanbul   \n",
            "\n",
            "     Time_Slot travel_time  num_transits  buses  metros  ferries  \n",
            "2378  6pm-12am          \\N             0      0       0        0  \n",
            "2379  6am-12pm          \\N             0      0       0        0  \n",
            "2380  12pm-6pm          \\N             0      0       0        0  \n",
            "2381  6pm-12am          \\N             0      0       0        0  \n",
            "2382  12pm-6pm          84             2      2       0        0  \n",
            "2383  6am-12pm          79             2      2       0        0  \n",
            "2385  6pm-12am          84             2      2       0        0  \n",
            "2442  6pm-12am          \\N             0      0       0        0  \n",
            "2443  12pm-6pm          \\N             0      0       0        0  \n",
            "2448  6am-12pm          \\N             0      0       0        0  \n"
          ]
        }
      ]
    },
    {
      "cell_type": "code",
      "source": [
        "\n",
        "df = df[df['Origin'] !='\\\\N' ]\n",
        "\n",
        "\n",
        "print(df.tail())\n"
      ],
      "metadata": {
        "colab": {
          "base_uri": "https://localhost:8080/"
        },
        "id": "GXFKcy-Eb9vs",
        "outputId": "ff9aebb1-27ad-4837-c3ea-a6e6a403d65d"
      },
      "execution_count": null,
      "outputs": [
        {
          "output_type": "stream",
          "name": "stdout",
          "text": [
            "                  Origin                                       Destination  \\\n",
            "2380  Num of ferry boats  Istinye University, Hamidiye, Kağthane, Istanbul   \n",
            "2381  Num of ferry boats  Istinye University, Hamidiye, Kağthane, Istanbul   \n",
            "2382             Üsküdar  Istinye University, Hamidiye, Kağthane, Istanbul   \n",
            "2383             Üsküdar  Istinye University, Hamidiye, Kağthane, Istanbul   \n",
            "2385             Üsküdar  Istinye University, Hamidiye, Kağthane, Istanbul   \n",
            "\n",
            "     Time_Slot travel_time  num_transits  buses  metros  ferries  \n",
            "2380  12pm-6pm          \\N             0      0       0        0  \n",
            "2381  6pm-12am          \\N             0      0       0        0  \n",
            "2382  12pm-6pm          84             2      2       0        0  \n",
            "2383  6am-12pm          79             2      2       0        0  \n",
            "2385  6pm-12am          84             2      2       0        0  \n"
          ]
        }
      ]
    },
    {
      "cell_type": "code",
      "source": [
        "df = df[df['travel_time'] !='\\\\N' ]\n",
        "print(df.tail())\n"
      ],
      "metadata": {
        "colab": {
          "base_uri": "https://localhost:8080/"
        },
        "id": "JwZFT5U2h10r",
        "outputId": "b2daa96e-9460-407d-bd36-7dae3b30a58d"
      },
      "execution_count": null,
      "outputs": [
        {
          "output_type": "stream",
          "name": "stdout",
          "text": [
            "                               Origin  \\\n",
            "2356  9. Üniversite, Avcilar/Istanbul   \n",
            "2357  9. Üniversite, Avcilar/Istanbul   \n",
            "2382                          Üsküdar   \n",
            "2383                          Üsküdar   \n",
            "2385                          Üsküdar   \n",
            "\n",
            "                                           Destination Time_Slot travel_time  \\\n",
            "2356  Istinye University, Hamidiye, Kağthane, Istanbul  6pm-12am         128   \n",
            "2357  Istinye University, Hamidiye, Kağthane, Istanbul  6am-12pm         128   \n",
            "2382  Istinye University, Hamidiye, Kağthane, Istanbul  12pm-6pm          84   \n",
            "2383  Istinye University, Hamidiye, Kağthane, Istanbul  6am-12pm          79   \n",
            "2385  Istinye University, Hamidiye, Kağthane, Istanbul  6pm-12am          84   \n",
            "\n",
            "      num_transits  buses  metros  ferries  \n",
            "2356             2      2       0        0  \n",
            "2357             2      2       0        0  \n",
            "2382             2      2       0        0  \n",
            "2383             2      2       0        0  \n",
            "2385             2      2       0        0  \n"
          ]
        }
      ]
    },
    {
      "cell_type": "code",
      "source": [
        "print(df.columns)"
      ],
      "metadata": {
        "colab": {
          "base_uri": "https://localhost:8080/"
        },
        "id": "EJlwQYw2cJ4C",
        "outputId": "2a25bcad-29a9-4a27-b8c9-bc1192841d06"
      },
      "execution_count": null,
      "outputs": [
        {
          "output_type": "stream",
          "name": "stdout",
          "text": [
            "Index(['Origin', 'Destination', 'Time_Slot', 'travel_time', 'num_transits',\n",
            "       'buses', 'metros', 'ferries'],\n",
            "      dtype='object')\n"
          ]
        }
      ]
    },
    {
      "cell_type": "code",
      "source": [
        "\n",
        "df.to_csv('cleaned_dataset.csv')"
      ],
      "metadata": {
        "id": "MJSX8jxQjOpC"
      },
      "execution_count": null,
      "outputs": []
    }
  ]
}